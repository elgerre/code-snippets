{
 "cells": [
  {
   "cell_type": "code",
   "execution_count": 5,
   "metadata": {},
   "outputs": [
    {
     "name": "stdout",
     "output_type": "stream",
     "text": [
      "Requirement already satisfied: ytmusicapi in c:\\users\\renee\\onedrive\\dokumente\\it projekte\\allgemeine python skripte\\.venv\\lib\\site-packages (1.7.3)Note: you may need to restart the kernel to use updated packages.\n"
     ]
    },
    {
     "name": "stderr",
     "output_type": "stream",
     "text": [
      "\n",
      "[notice] A new release of pip available: 22.3.1 -> 24.0\n",
      "[notice] To update, run: python.exe -m pip install --upgrade pip\n"
     ]
    },
    {
     "name": "stdout",
     "output_type": "stream",
     "text": [
      "\n",
      "Requirement already satisfied: requests>=2.22 in c:\\users\\renee\\onedrive\\dokumente\\it projekte\\allgemeine python skripte\\.venv\\lib\\site-packages (from ytmusicapi) (2.28.1)\n",
      "Requirement already satisfied: urllib3<1.27,>=1.21.1 in c:\\users\\renee\\onedrive\\dokumente\\it projekte\\allgemeine python skripte\\.venv\\lib\\site-packages (from requests>=2.22->ytmusicapi) (1.26.12)\n",
      "Requirement already satisfied: idna<4,>=2.5 in c:\\users\\renee\\onedrive\\dokumente\\it projekte\\allgemeine python skripte\\.venv\\lib\\site-packages (from requests>=2.22->ytmusicapi) (3.4)\n",
      "Requirement already satisfied: charset-normalizer<3,>=2 in c:\\users\\renee\\onedrive\\dokumente\\it projekte\\allgemeine python skripte\\.venv\\lib\\site-packages (from requests>=2.22->ytmusicapi) (2.1.1)\n",
      "Requirement already satisfied: certifi>=2017.4.17 in c:\\users\\renee\\onedrive\\dokumente\\it projekte\\allgemeine python skripte\\.venv\\lib\\site-packages (from requests>=2.22->ytmusicapi) (2022.9.24)\n"
     ]
    }
   ],
   "source": [
    "pip install ytmusicapi"
   ]
  },
  {
   "cell_type": "code",
   "execution_count": 6,
   "metadata": {},
   "outputs": [],
   "source": [
    "from ytmusicapi import YTMusic\n",
    "import json\n",
    "import pandas as pd"
   ]
  },
  {
   "cell_type": "code",
   "execution_count": 10,
   "metadata": {},
   "outputs": [],
   "source": [
    "ytmusic = YTMusic()\n",
    "playlist=ytmusic.get_playlist(playlistId=\"PLKB1ukP6OC6RpvKctKKTDP2w68WK9zOb1\",limit=None)\n",
    "#PLKB1ukP6OC6RpvKctKKTDP2w68WK9zOb1\n",
    "#PLLUwvN74i5M7uuzGi6vRaUehPY4njg036"
   ]
  },
  {
   "cell_type": "code",
   "execution_count": 4,
   "metadata": {},
   "outputs": [],
   "source": [
    "json_object = json.dumps(playlist)\n",
    "with open(\"sample.json\", \"w\") as outfile:\n",
    "    outfile.write(json_object)"
   ]
  },
  {
   "cell_type": "code",
   "execution_count": 4,
   "metadata": {},
   "outputs": [
    {
     "data": {
      "text/html": [
       "<div>\n",
       "<style scoped>\n",
       "    .dataframe tbody tr th:only-of-type {\n",
       "        vertical-align: middle;\n",
       "    }\n",
       "\n",
       "    .dataframe tbody tr th {\n",
       "        vertical-align: top;\n",
       "    }\n",
       "\n",
       "    .dataframe thead th {\n",
       "        text-align: right;\n",
       "    }\n",
       "</style>\n",
       "<table border=\"1\" class=\"dataframe\">\n",
       "  <thead>\n",
       "    <tr style=\"text-align: right;\">\n",
       "      <th></th>\n",
       "      <th>videoId</th>\n",
       "      <th>title</th>\n",
       "      <th>views</th>\n",
       "      <th>duration_seconds</th>\n",
       "    </tr>\n",
       "  </thead>\n",
       "  <tbody>\n",
       "    <tr>\n",
       "      <th>0</th>\n",
       "      <td>bpY7qw3kv00</td>\n",
       "      <td>The Unkillable Soldier</td>\n",
       "      <td>The War to End All Wars</td>\n",
       "      <td>251</td>\n",
       "    </tr>\n",
       "    <tr>\n",
       "      <th>1</th>\n",
       "      <td>w1TWhBwM7iM</td>\n",
       "      <td>Armata Strigoi</td>\n",
       "      <td>Blessed &amp; Possessed</td>\n",
       "      <td>240</td>\n",
       "    </tr>\n",
       "    <tr>\n",
       "      <th>2</th>\n",
       "      <td>3J5tyx2kfCU</td>\n",
       "      <td>Inferno</td>\n",
       "      <td>Inferno</td>\n",
       "      <td>277</td>\n",
       "    </tr>\n",
       "    <tr>\n",
       "      <th>3</th>\n",
       "      <td>Iv1PwRdCoDk</td>\n",
       "      <td>Ride to Hell</td>\n",
       "      <td>Angus McSix and the Sword of Power</td>\n",
       "      <td>235</td>\n",
       "    </tr>\n",
       "    <tr>\n",
       "      <th>4</th>\n",
       "      <td>W0Wo5zhgvpM</td>\n",
       "      <td>Helix</td>\n",
       "      <td>HELIX</td>\n",
       "      <td>216</td>\n",
       "    </tr>\n",
       "    <tr>\n",
       "      <th>...</th>\n",
       "      <td>...</td>\n",
       "      <td>...</td>\n",
       "      <td>...</td>\n",
       "      <td>...</td>\n",
       "    </tr>\n",
       "    <tr>\n",
       "      <th>1652</th>\n",
       "      <td>F8vuyd9M2LU</td>\n",
       "      <td>How’s the Heart?</td>\n",
       "      <td>None</td>\n",
       "      <td>303</td>\n",
       "    </tr>\n",
       "    <tr>\n",
       "      <th>1653</th>\n",
       "      <td>GdZn7k5rZLQ</td>\n",
       "      <td>Amaranth</td>\n",
       "      <td>None</td>\n",
       "      <td>234</td>\n",
       "    </tr>\n",
       "    <tr>\n",
       "      <th>1654</th>\n",
       "      <td>Xy29T7LBM_I</td>\n",
       "      <td>Harvest</td>\n",
       "      <td>None</td>\n",
       "      <td>314</td>\n",
       "    </tr>\n",
       "    <tr>\n",
       "      <th>1655</th>\n",
       "      <td>qG6_d9tpR84</td>\n",
       "      <td>Zombie</td>\n",
       "      <td>Disobey</td>\n",
       "      <td>255</td>\n",
       "    </tr>\n",
       "    <tr>\n",
       "      <th>1656</th>\n",
       "      <td>7yB1Ugob-88</td>\n",
       "      <td>Glaubenskraft</td>\n",
       "      <td>Call of the Wild</td>\n",
       "      <td>237</td>\n",
       "    </tr>\n",
       "  </tbody>\n",
       "</table>\n",
       "<p>1657 rows × 4 columns</p>\n",
       "</div>"
      ],
      "text/plain": [
       "          videoId                   title                               views  \\\n",
       "0     bpY7qw3kv00  The Unkillable Soldier             The War to End All Wars   \n",
       "1     w1TWhBwM7iM          Armata Strigoi                 Blessed & Possessed   \n",
       "2     3J5tyx2kfCU                 Inferno                             Inferno   \n",
       "3     Iv1PwRdCoDk            Ride to Hell  Angus McSix and the Sword of Power   \n",
       "4     W0Wo5zhgvpM                   Helix                               HELIX   \n",
       "...           ...                     ...                                 ...   \n",
       "1652  F8vuyd9M2LU        How’s the Heart?                                None   \n",
       "1653  GdZn7k5rZLQ                Amaranth                                None   \n",
       "1654  Xy29T7LBM_I                 Harvest                                None   \n",
       "1655  qG6_d9tpR84                  Zombie                             Disobey   \n",
       "1656  7yB1Ugob-88           Glaubenskraft                    Call of the Wild   \n",
       "\n",
       "      duration_seconds  \n",
       "0                  251  \n",
       "1                  240  \n",
       "2                  277  \n",
       "3                  235  \n",
       "4                  216  \n",
       "...                ...  \n",
       "1652               303  \n",
       "1653               234  \n",
       "1654               314  \n",
       "1655               255  \n",
       "1656               237  \n",
       "\n",
       "[1657 rows x 4 columns]"
      ]
     },
     "metadata": {},
     "output_type": "display_data"
    }
   ],
   "source": [
    "df=pd.json_normalize(playlist[\"tracks\"])\n",
    "\n",
    "df=df[[\"videoId\",\"title\",\"views\",\"duration_seconds\"]]\n",
    "df2=pd.json_normalize(playlist[\"tracks\"],record_path=[\"artists\"], meta = [\"videoId\"], record_prefix=\"artists_\", meta_prefix=\"song_\")[[\"artists_name\",\"song_videoId\"]]\n",
    "df3=pd.json_normalize(playlist[\"tracks\"],record_path=[\"thumbnails\"], meta = [\"videoId\"], record_prefix=\"thumbnail_\", meta_prefix=\"song_\")[[\"thumbnail_url\",\"song_videoId\"]]\n",
    "\n",
    "##parsed_df=pd.concat([pd.json_normalize(js) for js in df[\"artists\"]])\n",
    "display(df)"
   ]
  }
 ],
 "metadata": {
  "kernelspec": {
   "display_name": "Python 3",
   "language": "python",
   "name": "python3"
  },
  "language_info": {
   "codemirror_mode": {
    "name": "ipython",
    "version": 3
   },
   "file_extension": ".py",
   "mimetype": "text/x-python",
   "name": "python",
   "nbconvert_exporter": "python",
   "pygments_lexer": "ipython3",
   "version": "3.10.11"
  }
 },
 "nbformat": 4,
 "nbformat_minor": 2
}
