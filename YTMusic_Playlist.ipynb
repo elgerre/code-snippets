{
 "cells": [
  {
   "cell_type": "code",
   "execution_count": 5,
   "metadata": {},
   "outputs": [
    {
     "name": "stdout",
     "output_type": "stream",
     "text": [
      "Requirement already satisfied: ytmusicapi in c:\\users\\renee\\onedrive\\dokumente\\it projekte\\allgemeine python skripte\\.venv\\lib\\site-packages (1.7.3)Note: you may need to restart the kernel to use updated packages.\n"
     ]
    },
    {
     "name": "stderr",
     "output_type": "stream",
     "text": [
      "\n",
      "[notice] A new release of pip available: 22.3.1 -> 24.0\n",
      "[notice] To update, run: python.exe -m pip install --upgrade pip\n"
     ]
    },
    {
     "name": "stdout",
     "output_type": "stream",
     "text": [
      "\n",
      "Requirement already satisfied: requests>=2.22 in c:\\users\\renee\\onedrive\\dokumente\\it projekte\\allgemeine python skripte\\.venv\\lib\\site-packages (from ytmusicapi) (2.28.1)\n",
      "Requirement already satisfied: urllib3<1.27,>=1.21.1 in c:\\users\\renee\\onedrive\\dokumente\\it projekte\\allgemeine python skripte\\.venv\\lib\\site-packages (from requests>=2.22->ytmusicapi) (1.26.12)\n",
      "Requirement already satisfied: idna<4,>=2.5 in c:\\users\\renee\\onedrive\\dokumente\\it projekte\\allgemeine python skripte\\.venv\\lib\\site-packages (from requests>=2.22->ytmusicapi) (3.4)\n",
      "Requirement already satisfied: charset-normalizer<3,>=2 in c:\\users\\renee\\onedrive\\dokumente\\it projekte\\allgemeine python skripte\\.venv\\lib\\site-packages (from requests>=2.22->ytmusicapi) (2.1.1)\n",
      "Requirement already satisfied: certifi>=2017.4.17 in c:\\users\\renee\\onedrive\\dokumente\\it projekte\\allgemeine python skripte\\.venv\\lib\\site-packages (from requests>=2.22->ytmusicapi) (2022.9.24)\n"
     ]
    }
   ],
   "source": [
    "pip install ytmusicapi"
   ]
  },
  {
   "cell_type": "code",
   "execution_count": 5,
   "metadata": {},
   "outputs": [],
   "source": [
    "from ytmusicapi import YTMusic\n",
    "import json\n",
    "import pandas as pd"
   ]
  },
  {
   "cell_type": "code",
   "execution_count": 29,
   "metadata": {},
   "outputs": [],
   "source": [
    "ytmusic = YTMusic()\n",
    "playlist=ytmusic.get_playlist(playlistId=\"PLKB1ukP6OC6RpvKctKKTDP2w68WK9zOb1\",limit=None)\n",
    "#PLKB1ukP6OC6RpvKctKKTDP2w68WK9zOb1\n",
    "#PLLUwvN74i5M7uuzGi6vRaUehPY4njg036"
   ]
  },
  {
   "cell_type": "code",
   "execution_count": 3,
   "metadata": {},
   "outputs": [],
   "source": [
    "##json_object = json.dumps(playlist)\n",
    "##with open(\"sample.json\", \"w\") as outfile:\n",
    "##    outfile.write(json_object)"
   ]
  },
  {
   "cell_type": "code",
   "execution_count": 18,
   "metadata": {},
   "outputs": [
    {
     "data": {
      "text/html": [
       "<div>\n",
       "<style scoped>\n",
       "    .dataframe tbody tr th:only-of-type {\n",
       "        vertical-align: middle;\n",
       "    }\n",
       "\n",
       "    .dataframe tbody tr th {\n",
       "        vertical-align: top;\n",
       "    }\n",
       "\n",
       "    .dataframe thead th {\n",
       "        text-align: right;\n",
       "    }\n",
       "</style>\n",
       "<table border=\"1\" class=\"dataframe\">\n",
       "  <thead>\n",
       "    <tr style=\"text-align: right;\">\n",
       "      <th></th>\n",
       "      <th>videoId</th>\n",
       "      <th>title</th>\n",
       "      <th>views</th>\n",
       "      <th>duration_seconds</th>\n",
       "    </tr>\n",
       "  </thead>\n",
       "  <tbody>\n",
       "    <tr>\n",
       "      <th>0</th>\n",
       "      <td>Szdtni0uX0E</td>\n",
       "      <td>Sanctus Dominus</td>\n",
       "      <td>Blessed &amp; Possessed</td>\n",
       "      <td>203</td>\n",
       "    </tr>\n",
       "    <tr>\n",
       "      <th>1</th>\n",
       "      <td>fIhJcgoJ8lk</td>\n",
       "      <td>Beyond the Matrix</td>\n",
       "      <td>The Holographic Principle</td>\n",
       "      <td>387</td>\n",
       "    </tr>\n",
       "    <tr>\n",
       "      <th>2</th>\n",
       "      <td>f7LehCb9ZxU</td>\n",
       "      <td>Beauty in Passing</td>\n",
       "      <td>The Black Wild Yonder</td>\n",
       "      <td>294</td>\n",
       "    </tr>\n",
       "    <tr>\n",
       "      <th>3</th>\n",
       "      <td>Z2e6yf482nU</td>\n",
       "      <td>Fields of Sorrow</td>\n",
       "      <td>Gunmen</td>\n",
       "      <td>404</td>\n",
       "    </tr>\n",
       "    <tr>\n",
       "      <th>4</th>\n",
       "      <td>bpY7qw3kv00</td>\n",
       "      <td>The Unkillable Soldier</td>\n",
       "      <td>The War to End All Wars</td>\n",
       "      <td>251</td>\n",
       "    </tr>\n",
       "    <tr>\n",
       "      <th>...</th>\n",
       "      <td>...</td>\n",
       "      <td>...</td>\n",
       "      <td>...</td>\n",
       "      <td>...</td>\n",
       "    </tr>\n",
       "    <tr>\n",
       "      <th>1659</th>\n",
       "      <td>9BK0Wlg0ckw</td>\n",
       "      <td>Black Clover</td>\n",
       "      <td>The Upside Down</td>\n",
       "      <td>263</td>\n",
       "    </tr>\n",
       "    <tr>\n",
       "      <th>1660</th>\n",
       "      <td>D6XjYFppa6c</td>\n",
       "      <td>Prepare for War</td>\n",
       "      <td>Into the Glorious Battle</td>\n",
       "      <td>274</td>\n",
       "    </tr>\n",
       "    <tr>\n",
       "      <th>1661</th>\n",
       "      <td>jYJvb6B8deA</td>\n",
       "      <td>Rising High</td>\n",
       "      <td>P.O.K.E.R.F.A.C.E.</td>\n",
       "      <td>197</td>\n",
       "    </tr>\n",
       "    <tr>\n",
       "      <th>1662</th>\n",
       "      <td>vTCclMk8R8A</td>\n",
       "      <td>Where Were You Last Night / You Give Love a Ba...</td>\n",
       "      <td>Volume #1</td>\n",
       "      <td>265</td>\n",
       "    </tr>\n",
       "    <tr>\n",
       "      <th>1663</th>\n",
       "      <td>y5bXOWNQTUY</td>\n",
       "      <td>Year Zero</td>\n",
       "      <td>[MESSAGE FROM THE CLERGY]</td>\n",
       "      <td>351</td>\n",
       "    </tr>\n",
       "  </tbody>\n",
       "</table>\n",
       "<p>1664 rows × 4 columns</p>\n",
       "</div>"
      ],
      "text/plain": [
       "          videoId                                              title  \\\n",
       "0     Szdtni0uX0E                                    Sanctus Dominus   \n",
       "1     fIhJcgoJ8lk                                  Beyond the Matrix   \n",
       "2     f7LehCb9ZxU                                  Beauty in Passing   \n",
       "3     Z2e6yf482nU                                   Fields of Sorrow   \n",
       "4     bpY7qw3kv00                             The Unkillable Soldier   \n",
       "...           ...                                                ...   \n",
       "1659  9BK0Wlg0ckw                                       Black Clover   \n",
       "1660  D6XjYFppa6c                                    Prepare for War   \n",
       "1661  jYJvb6B8deA                                        Rising High   \n",
       "1662  vTCclMk8R8A  Where Were You Last Night / You Give Love a Ba...   \n",
       "1663  y5bXOWNQTUY                                          Year Zero   \n",
       "\n",
       "                          views  duration_seconds  \n",
       "0           Blessed & Possessed               203  \n",
       "1     The Holographic Principle               387  \n",
       "2         The Black Wild Yonder               294  \n",
       "3                        Gunmen               404  \n",
       "4       The War to End All Wars               251  \n",
       "...                         ...               ...  \n",
       "1659            The Upside Down               263  \n",
       "1660   Into the Glorious Battle               274  \n",
       "1661         P.O.K.E.R.F.A.C.E.               197  \n",
       "1662                  Volume #1               265  \n",
       "1663  [MESSAGE FROM THE CLERGY]               351  \n",
       "\n",
       "[1664 rows x 4 columns]"
      ]
     },
     "metadata": {},
     "output_type": "display_data"
    }
   ],
   "source": [
    "df=pd.json_normalize(playlist[\"tracks\"])\n",
    "\n",
    "df=df[[\"videoId\",\"title\",\"views\",\"duration_seconds\"]]\n",
    "df2=pd.json_normalize(playlist[\"tracks\"],record_path=[\"artists\"], meta = [\"videoId\"], record_prefix=\"artists_\", meta_prefix=\"song_\")[[\"artists_name\",\"song_videoId\"]]\n",
    "df3=pd.json_normalize(playlist[\"tracks\"],record_path=[\"thumbnails\"], meta = [\"videoId\"], record_prefix=\"thumbnail_\", meta_prefix=\"song_\")[[\"thumbnail_url\",\"song_videoId\"]]\n",
    "\n",
    "##parsed_df=pd.concat([pd.json_normalize(js) for js in df[\"artists\"]])\n",
    "display(df)"
   ]
  }
 ],
 "metadata": {
  "kernelspec": {
   "display_name": "Python 3",
   "language": "python",
   "name": "python3"
  },
  "language_info": {
   "codemirror_mode": {
    "name": "ipython",
    "version": 3
   },
   "file_extension": ".py",
   "mimetype": "text/x-python",
   "name": "python",
   "nbconvert_exporter": "python",
   "pygments_lexer": "ipython3",
   "version": "3.10.11"
  }
 },
 "nbformat": 4,
 "nbformat_minor": 2
}
